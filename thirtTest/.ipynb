{
 "cells": [
  {
   "cell_type": "code",
   "execution_count": null,
   "metadata": {},
   "outputs": [],
   "source": [
    "'''\n",
    "Hãy viết 1 hàm gọi là tính bình phương \n",
    "Hàm này truyền vào một giá trị x \n",
    "Hàm này sẽ trả về giá trị bình phương của x\n",
    "Hãy cho 1 danh sách x gồm 10 phần tử integer\n",
    "Hãy tính giá trị bình phương của 10 phần tử đó bằng cách gọi hàm rồi lưu vào danh sách y và in ra y\n",
    "\n",
    "'''"
   ]
  },
  {
   "cell_type": "code",
   "execution_count": null,
   "metadata": {},
   "outputs": [],
   "source": [
    "# Hãy chuyển hàm bình phương ra một modules (tạo 1 file python .py)\n",
    "# import modules đó rồi gọi hàm ra như cách ở trên "
   ]
  },
  {
   "cell_type": "code",
   "execution_count": 3,
   "metadata": {},
   "outputs": [
    {
     "name": "stdout",
     "output_type": "stream",
     "text": [
      "[49, 121, 169, 289, 324, 484, 2025, 2209, 2916, 6241]\n"
     ]
    }
   ],
   "source": [
    "def square(x):\n",
    "    return x**2\n",
    "\n",
    "y = []\n",
    "list_x = [7, 11, 13, 17, 18, 22, 45, 47, 54, 79]\n",
    "for i in range(0,len(list_x)):\n",
    "    square(list_x[i])\n",
    "    y.append(square(list_x[i]))\n",
    "print(y)"
   ]
  },
  {
   "cell_type": "code",
   "execution_count": null,
   "metadata": {},
   "outputs": [],
   "source": []
  },
  {
   "cell_type": "code",
   "execution_count": null,
   "metadata": {},
   "outputs": [],
   "source": []
  }
 ],
 "metadata": {
  "kernelspec": {
   "display_name": "Python 3",
   "language": "python",
   "name": "python3"
  },
  "language_info": {
   "codemirror_mode": {
    "name": "ipython",
    "version": 3
   },
   "file_extension": ".py",
   "mimetype": "text/x-python",
   "name": "python",
   "nbconvert_exporter": "python",
   "pygments_lexer": "ipython3",
   "version": "3.8.5"
  }
 },
 "nbformat": 4,
 "nbformat_minor": 4
}
