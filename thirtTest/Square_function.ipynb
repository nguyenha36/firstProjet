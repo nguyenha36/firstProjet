{
 "cells": [
  {
   "cell_type": "markdown",
   "metadata": {},
   "source": [
    "Viết hàm trả về bình phương của một với một tham số truyền vào\n",
    "Cho 1 list 10 phần tử là các số nguyên dương bất kỳ, sử dụng hàm để tính và in ra kết quả\n",
    "Lưu hàm bình phương ra file mới có đuôi là .py\n",
    "Import file vừa lưu và tính bình phương của số bất kỳ"
   ]
  },
  {
   "cell_type": "code",
   "execution_count": 6,
   "metadata": {},
   "outputs": [
    {
     "name": "stdout",
     "output_type": "stream",
     "text": [
      "[64, 289, 2025, 900, 529, 841, 961, 169, 3025, 3721]\n"
     ]
    }
   ],
   "source": [
    "# Viết hàm\n",
    "def square(x):\n",
    "    return x**2\n",
    "\n",
    "# Tính bình phương của các phần tử trong danh sách\n",
    "new_list = []\n",
    "list_t = [8, 17, 45, 30, 23, 29, 31, 13, 55, 61]\n",
    "for i in range(len(list_t)):\n",
    "    square(list_t[i])\n",
    "    new_list.append(square(list_t[i]))\n",
    "print(new_list)"
   ]
  },
  {
   "cell_type": "code",
   "execution_count": null,
   "metadata": {},
   "outputs": [],
   "source": []
  },
  {
   "cell_type": "code",
   "execution_count": null,
   "metadata": {},
   "outputs": [],
   "source": []
  }
 ],
 "metadata": {
  "kernelspec": {
   "display_name": "Python 3",
   "language": "python",
   "name": "python3"
  },
  "language_info": {
   "codemirror_mode": {
    "name": "ipython",
    "version": 3
   },
   "file_extension": ".py",
   "mimetype": "text/x-python",
   "name": "python",
   "nbconvert_exporter": "python",
   "pygments_lexer": "ipython3",
   "version": "3.8.5"
  }
 },
 "nbformat": 4,
 "nbformat_minor": 4
}
