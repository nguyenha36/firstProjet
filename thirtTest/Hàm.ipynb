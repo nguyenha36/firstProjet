{
 "cells": [
  {
   "cell_type": "code",
   "execution_count": 4,
   "metadata": {},
   "outputs": [
    {
     "name": "stdout",
     "output_type": "stream",
     "text": [
      "25\n"
     ]
    }
   ],
   "source": [
    "# Hãy viết 1 hàm, được gọilà hàm bình phương\n",
    "# Hàm này truyền vào 1 tham số x và trả ra tham số x bình phương\n",
    "# Hãy cho một số a nhập vào từ bàn phím và gọi hàm để tính bình phương của a\n",
    "\n",
    "\n",
    "def tbphuong(x):\n",
    "    ketqua = x * x\n",
    "    return ketqua\n",
    "print(tbphuong(5))\n",
    "    \n",
    "\n"
   ]
  },
  {
   "cell_type": "code",
   "execution_count": 6,
   "metadata": {},
   "outputs": [
    {
     "name": "stdout",
     "output_type": "stream",
     "text": [
      "25\n",
      "4\n",
      "9\n",
      "36\n",
      "49\n",
      "81\n",
      "121\n"
     ]
    }
   ],
   "source": [
    "# Hãy cho 1 list gồm các phần tử, \n",
    "# Hãy lần lượt gọi hàm bình phương ở trên để tính bình phương và in ra đối với mỗi phần tử\n",
    "\n",
    "thislist = [5,2,3,6,7,9,11]\n",
    "\n",
    "for x in thislist:\n",
    "    print(tbphuong(x))"
   ]
  },
  {
   "cell_type": "code",
   "execution_count": 7,
   "metadata": {},
   "outputs": [
    {
     "name": "stdout",
     "output_type": "stream",
     "text": [
      "25\n",
      "4\n",
      "9\n",
      "36\n",
      "49\n",
      "81\n",
      "121\n"
     ]
    }
   ],
   "source": [
    "thislist = [5,2,3,6,7,9,11]\n",
    "\n",
    "for i in range(len(thislist)):\n",
    "    print(tbphuong(thislist[i]))\n"
   ]
  },
  {
   "cell_type": "code",
   "execution_count": 8,
   "metadata": {},
   "outputs": [
    {
     "name": "stdout",
     "output_type": "stream",
     "text": [
      "5 Bình phương là:  25\n",
      "2 Bình phương là:  4\n",
      "3 Bình phương là:  9\n",
      "6 Bình phương là:  36\n",
      "7 Bình phương là:  49\n",
      "9 Bình phương là:  81\n",
      "11 Bình phương là:  121\n"
     ]
    }
   ],
   "source": [
    "thislist = [5,2,3,6,7,9,11]\n",
    "\n",
    "for x in thislist:\n",
    "    print(x,'Bình phương là: ',tbphuong(x))"
   ]
  },
  {
   "cell_type": "code",
   "execution_count": 13,
   "metadata": {},
   "outputs": [
    {
     "name": "stdout",
     "output_type": "stream",
     "text": [
      "kết quả đổi chỗ 2 giá trị là:  (5, 3)\n"
     ]
    }
   ],
   "source": [
    "# Hãy viết 1 hàm để truyền 2 số a và b. Hàm này trả về giá trị a và b đã đổi chỗ\n",
    "# Hãy nhập vào 2 số x và y\n",
    "# Hãy gọi hàm và nhận về hai giá trị đã đổi chỗ và in ra\n",
    "\n",
    "def doicho(a,b):\n",
    "    x = a\n",
    "    a = b\n",
    "    b = x\n",
    "    return a,b\n",
    "    \n",
    "print('kết quả đổi chỗ 2 giá trị là: ',doicho(3,5))# Khi gọi hàm không return thì kết quả trả về là none\n"
   ]
  },
  {
   "cell_type": "code",
   "execution_count": 19,
   "metadata": {},
   "outputs": [
    {
     "name": "stdout",
     "output_type": "stream",
     "text": [
      "Nhập số bất kỳ: 5\n",
      "Nhập số thứ 2: 9\n",
      "Giá trị mới của k=  9\n",
      "Giá trị mới của l=  5\n"
     ]
    }
   ],
   "source": [
    "k = int(input('Nhập số bất kỳ: '))\n",
    "l = int(input('Nhập số thứ 2: '))\n",
    "# nhập 2 số k, l từ bàn phím, gọi hàm doicho ở trên, sau đó nhận về kết quả và in ra giá trị mới của k và l\n",
    "'''\n",
    "Cách nhận về 2 giá trị kết quả của hàm trong python:\n",
    "https://www.it-swarm-vi.com/vi/python/lam-cach-nao-toi-co-tra-ve-hai-gia-tri-tu-mot-ham-trong-python/941900782/\n",
    "''' \n",
    "so_k, so_l = doicho(k,l)\n",
    "\n",
    "print('Giá trị mới của k= ',so_k)\n",
    "print('Giá trị mới của l= ',so_l)\n"
   ]
  },
  {
   "cell_type": "code",
   "execution_count": 21,
   "metadata": {},
   "outputs": [
    {
     "name": "stdout",
     "output_type": "stream",
     "text": [
      "Nhập số bất kỳ: 5\n",
      "Nhập số thứ 2: 3\n",
      "Giá trị mới của k=  3\n",
      "Giá trị mới của l=  5\n"
     ]
    }
   ],
   "source": [
    "#Viết thêm một hàm đổi chỗ 2\n",
    "def doicho2(a,b):\n",
    "    \n",
    "    return b,a\n",
    "k = int(input('Nhập số bất kỳ: '))\n",
    "l = int(input('Nhập số thứ 2: '))\n",
    "so_k, so_l = doicho2(k,l)\n",
    "\n",
    "print('Giá trị mới của k= ',so_k)\n",
    "print('Giá trị mới của l= ',so_l)\n"
   ]
  },
  {
   "cell_type": "code",
   "execution_count": null,
   "metadata": {},
   "outputs": [],
   "source": []
  }
 ],
 "metadata": {
  "kernelspec": {
   "display_name": "Python 3",
   "language": "python",
   "name": "python3"
  },
  "language_info": {
   "codemirror_mode": {
    "name": "ipython",
    "version": 3
   },
   "file_extension": ".py",
   "mimetype": "text/x-python",
   "name": "python",
   "nbconvert_exporter": "python",
   "pygments_lexer": "ipython3",
   "version": "3.8.5"
  }
 },
 "nbformat": 4,
 "nbformat_minor": 4
}
