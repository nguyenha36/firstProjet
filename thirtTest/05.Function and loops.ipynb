{
 "cells": [
  {
   "cell_type": "code",
   "execution_count": 2,
   "metadata": {},
   "outputs": [
    {
     "name": "stdout",
     "output_type": "stream",
     "text": [
      "Hello World\n"
     ]
    }
   ],
   "source": [
    "'''1. Introduction\n",
    "    A function is a part of a computer program where a number of programming statements is clubbed as a block. It can be\n",
    "called when desired. This enables a modular approach to programming tasks and has become very popular among programmers \n",
    "nowadays sine modules can be edited with ease. Functions receive input parameters and return output parameters. When a \n",
    "function is being used, the function name is called along with values of input paramenters. After execution, a set of output\n",
    "paraments is returned . Python functions can be defined at any place in the program, regardless of the place from where they \n",
    "are being called. They can even be defined as a separate file individually or in a combined manner. Also, they can be called\n",
    "any number of times or they may not be called at all, as per the user's requirements.\n",
    "\n",
    "2. Defining Functions\n",
    "    Just like any other language, Python has its own way of defining functions. Following is the structure of a Python function:\n",
    "\n",
    "def function_name(parameter_1, parameter_2, ...):\n",
    "    \"\"\" Descriptive string \"\"\"\n",
    "    # Comment about statements below\n",
    "    statements\n",
    "    return return_parameters\n",
    "\n",
    "\n",
    "As you can see, a Python function consists of three parts:\n",
    " 1. Header: Beings with a keyword (def) and ends with a colon (:)\n",
    " 2. Descriptive string: A string that describes the purpose of a character and can be accessed using the help() function \n",
    " 3. Body: An indented (four whitespaces in general) set of Python statements below the header\n",
    "\n",
    "2.1. Function Name\n",
    "    Function names follow the same rules as variable names in Python. It is a good idea to give a function a name that is \n",
    "relevant to its description and to keep it short.\n",
    "\n",
    "2.2. Descriptive String\n",
    "    An essential part of a defining a function is to define its inner working details as a string. When help() is used, this\n",
    "descriptive string is displayed to the user so the user can understand the function and its usage. The usage of a descriptive \n",
    "string is not a compulsory feature, but it is recommentded as good programming practice. Since the description should be as \n",
    "detailed as possible, it constitutes a multiline string. Multiline strings can be written under triple quotes. Even if the \n",
    "description is only one line long, it might need to print single or double quotes for emphasizing a word or phrase. As a result,\n",
    "the usage of triple quotes has been mandated in the definition of a descriptive string.\n",
    "\n",
    "2.3. Indented Block of Statements\n",
    "    To define the block of statements that is part of a function, indentation is used as a marker. Statements that are indented\n",
    "after the first statement to define a function are part of the body of the statement that the function will execute. When a \n",
    "statement is written without indentation, the function is exited.\n",
    "    The rules of defining a function name are the same as those for defining variable names. It is important to name them with\n",
    "functionally relevant names so that they are easy to recall when needed.\n",
    "    For example, fn_help.py, as shown in Listing 1, does not take any input parameters and simply executes the statements of\n",
    "printing the string Hello World.\n",
    "\n",
    "Listing 1. fn-hello.py '''\n",
    "\n",
    "def greet():\n",
    "    '''\n",
    "    greet() just greets with the string \n",
    "    \"Hello World!\" each time it is called\n",
    "    '''\n",
    "    print('Hello World!)\n",
    "    \n",
    "greet()\n",
    "\n",
    "# Running the file fn-hello.py produces following output:\n",
    "\n"
   ]
  },
  {
   "cell_type": "code",
   "execution_count": 1,
   "metadata": {},
   "outputs": [
    {
     "name": "stdout",
     "output_type": "stream",
     "text": [
      "0 0\n",
      "1 1\n",
      "2 4\n",
      "3 9\n",
      "4 16\n",
      "5 25\n",
      "6 36\n",
      "7 49\n",
      "8 64\n",
      "9 81\n"
     ]
    }
   ],
   "source": [
    "'''\n",
    "2.4. Return Statement\n",
    "    When a function returns a parameters, it doesn't always need to print the same. Returning can be many other kinds of actions\n",
    "apart from simply printing on a screen. Returning can include passing the variables or their values to another function and/or\n",
    "variables, generating a file of code/data, and generating graphs and/or storing the functions as a file in a graphic format. The\n",
    "Python file fn-sq.py prints the square of the first 10 integers, as shown in Listing 2\n",
    "\n",
    "Listing 2. fn-sq.py\n",
    "'''\n",
    "def square(x):\n",
    "    '''\n",
    "    square() squares the input value\n",
    "    One must only used numeric data types\n",
    "    to avoid getting error\n",
    "    '''\n",
    "    return x * x\n",
    "\n",
    "for i in range(10):\n",
    "    squared_i= square(i)\n",
    "    print(i, squared_i)\n",
    "    \n",
    "# Following is the result of running the program:"
   ]
  },
  {
   "cell_type": "code",
   "execution_count": null,
   "metadata": {},
   "outputs": [],
   "source": [
    "'''\n",
    "    Here the function square is called inside a \"for loop\", which increments the value of the variable i from 1 to 10 \n",
    "(generated by the built-in function range()). The for loop structure will be discussed in Section 6\n",
    "\n",
    "3. Multi-input and Multi-output Functions\n",
    "    A function can input and return any number of parameters, as shown in Listing 3\n",
    "    \n",
    "Listing 3. def-multi.py\n",
    "'''"
   ]
  },
  {
   "cell_type": "code",
   "execution_count": 2,
   "metadata": {},
   "outputs": [
    {
     "name": "stdout",
     "output_type": "stream",
     "text": [
      "(100, 102, 202)\n"
     ]
    }
   ],
   "source": [
    "def sum(a,b):\n",
    "    '''\n",
    "    sum() takes two inputs and produces\n",
    "    a tuple of inputs and thier sum\n",
    "    '''\n",
    "    c = a + b\n",
    "    return a,b,c\n",
    "\n",
    "results = sum(100,102)\n",
    "print(results)\n",
    "\n",
    "# The execution result in:"
   ]
  },
  {
   "cell_type": "code",
   "execution_count": 4,
   "metadata": {},
   "outputs": [
    {
     "name": "stdout",
     "output_type": "stream",
     "text": [
      "value of i in global scope is 1\n",
      "value of i in my_function()1 scope is 2\n",
      "value of i in global scope is 1\n",
      "value of i in my_function()2 scope is 3\n",
      "value of i in global scope is 1\n"
     ]
    }
   ],
   "source": [
    "'''4. Namespaces\n",
    "    When we call a function within a program, Python creates a namespaces to work within this function. The namespaces are \n",
    "containers that store information about mapping names to objects. Since multiple functions can be defined within a main program,\n",
    "multiple namespaces can exit at the same time independently. They can contain the same variable names. Hence, a hierarchy level \n",
    "must be defined for conflict resolution. This is defined by scope rules.\n",
    "\n",
    "    4.1 Scope Rules\n",
    "    Scope determines the range of workability for an object-in other words, where the object can and cannot be accessed for \n",
    "computations. As it is clear by now, the variables defined within a function are defined to be local variables, whereas\n",
    "variables defined in the main program are global variable that can be accessed anywhere. The Python code namespace.py gives a\n",
    "better view of this concept, as shown in Listing 4\n",
    "\n",
    "Listing 4. namespace.py\n",
    "\n",
    "'''\n",
    "#Python code to demonstrate the concept of namespace and scope\n",
    "i = 1\n",
    "\n",
    "def my_function1():\n",
    "    i = 2\n",
    "    print('value of i in my_function()1 scope is', i)\n",
    "    \n",
    "def my_function2():\n",
    "    i = 3\n",
    "    print('value of i in my_function()2 scope is', i)\n",
    "print('value of i in global scope is', i)\n",
    "my_function1()\n",
    "print('value of i in global scope is', i)\n",
    "my_function2()\n",
    "print('value of i in global scope is', i)\n",
    "\n",
    "# The result is as follows:\n"
   ]
  },
  {
   "cell_type": "code",
   "execution_count": 2,
   "metadata": {},
   "outputs": [
    {
     "name": "stdout",
     "output_type": "stream",
     "text": [
      "The current item is:  a\n",
      "The current item is:  1\n",
      "The current item is:  3.14\n",
      "The current item is:  name\n"
     ]
    }
   ],
   "source": [
    "'''\n",
    "In the code namespace.py, the variable named i assigned three values:\n",
    "    1. i = 1 within the main program\n",
    "        +) scope of this variable is global. (It remains the same all through the program even if other functions are called)\n",
    "    2. i = 2 within the function named my_function1\n",
    "        +) scope of this variable is local, that is, within the function my_function1. Outside the function, it loses its definition\n",
    "    3. i = 3 within the function named my_function2\n",
    "        +) scope of this variable is local, that is, within the function my_function2. Outside the function, it loses its definition\n",
    "        \n",
    "        The hierarchical structure of scope follows LEGB rules. LEGB stands for Local->Enclosed->Global->Built-in\n",
    "    \n",
    "    This essentially dictates in which order the Python interpreter searches for different levels of namespaces before it finds the\n",
    "    name-to-object mapping. Following are the four levels of namesspaces:\n",
    "        +)Local: This is within a user-defined function or class method.\n",
    "        +)Enclosed: This is within an enclosing function, that is, in a case when a function is wrapped inside another function\n",
    "        +)Global: This signifies the uppermost level, that is, the main Python program that is being executed by the interpreter.\n",
    "        +)Built-in: These are special names that the Python interpreter reserves for itself.\n",
    "    If a name cannot found in any of the namespaces, a namespaces, a NameError will be raised.\n",
    "    \n",
    "5. Concept of Loops \n",
    "    The main advantage of using computers for calculations when performing repetitive (sự lặp đi lặp lại) tasks is that they can\n",
    "computer faster than humans. The term loop is associated with repetitive calculations because a user-defined variable names the\n",
    "values and computer repetitively shuffles(xáo trộn) the variable values in a specified sequence generated(tạo ra) by a condition.\n",
    "For example, a user might like to find the square root of the first 10 integers. To perform this calculation, the user needs to\n",
    "run the function sqrt() on a list of the first 10 integers(which can be generated by range() function.) The list of integers can\n",
    "be stored in an integer, and this variable can be put into a loop to perform the operation of finding the square root of each\n",
    "member of the list one-by-one.\n",
    "\n",
    "6. For Loop\n",
    "When the same operation has to be carried out on a given set of data, for loop is a good choice. For example, suppose we simply \n",
    "want to print the individual members of the list. The Python code in Listing 5 can be employed.\n",
    "\n",
    "Listing 5. ListMembers.py\n",
    "'''\n",
    "# Python program to illustrate usge of for loop ( chương trình Python minh họa cách sử dụng của vòng lặp for)\n",
    "a = ['a', 1, 3.14,'name']\n",
    "\n",
    "for item in a:\n",
    "    print('The current item is: ', item)\n",
    "    \n",
    "# The outputs is printed on the terminal as the following :"
   ]
  },
  {
   "cell_type": "code",
   "execution_count": 6,
   "metadata": {},
   "outputs": [
    {
     "name": "stdout",
     "output_type": "stream",
     "text": [
      "Please input a maximum number:200\n",
      "6 8 10\n",
      "10 24 26\n",
      "12 16 20\n",
      "14 48 50\n",
      "16 30 34\n",
      "18 24 30\n",
      "18 80 82\n",
      "20 48 52\n",
      "22 120 122\n",
      "24 32 40\n",
      "24 70 74\n",
      "26 168 170\n",
      "28 96 100\n",
      "30 40 50\n",
      "30 72 78\n",
      "32 60 68\n",
      "32 126 130\n",
      "36 48 60\n",
      "36 160 164\n",
      "40 42 58\n",
      "40 96 104\n",
      "40 198 202\n",
      "42 56 70\n",
      "42 144 150\n",
      "48 64 80\n",
      "48 90 102\n",
      "48 140 148\n",
      "50 120 130\n",
      "54 72 90\n",
      "56 90 106\n",
      "56 192 200\n",
      "60 80 100\n",
      "60 144 156\n",
      "64 120 136\n",
      "66 88 110\n",
      "66 112 130\n",
      "70 168 182\n",
      "72 96 120\n",
      "72 154 170\n",
      "78 104 130\n",
      "78 160 178\n",
      "80 84 116\n",
      "80 150 170\n",
      "80 192 208\n",
      "84 112 140\n",
      "90 120 150\n",
      "96 110 146\n",
      "96 128 160\n",
      "96 180 204\n",
      "102 136 170\n",
      "108 144 180\n",
      "112 180 212\n",
      "114 152 190\n",
      "120 126 174\n",
      "120 160 200\n",
      "120 182 218\n",
      "126 168 210\n",
      "130 144 194\n",
      "132 176 220\n",
      "138 184 230\n",
      "144 192 240\n",
      "150 200 250\n",
      "160 168 232\n"
     ]
    }
   ],
   "source": [
    "'''\n",
    "It is worth nothing that most of the programming languages employ a logical statement defining the initialization, condition, and \n",
    "increment for running the code. Python programs employ a different strategy where an array is employing a condition an the loop\n",
    "simply iterates on each member of the array. This is important for Python programs since Python is an interpetive language and\n",
    "is inherently slower in operation. Spending time checking a condition each time the loop wishes to take a step is a \n",
    "computationanlly costly affair. Hence, Python devises the computation in such a way that once a list/array is formed as per the\n",
    "defined condition, the loop can the run a list/array members. In this way, the overall computation time can be reduced.\n",
    "\n",
    "    As an example to understand the usage of for loop of numerical computation, let's suppose we want to find the even Pythagorean\n",
    "numbers such that\n",
    "                a^2 + b^2 = c^2\n",
    "    This can be accomplished using for loop as given in the Python code pytha.py shown in Listing 6. In this Python code, the user\n",
    "inputs a number denothing the maximum number for which this calculation will be performed. This ensures that the calculation has\n",
    "a proper end condition (without explicit definition).\n",
    "\n",
    "Listing 6. pytha.py\n",
    "'''\n",
    "# Program to generate even Pythagorean numbers\n",
    "#Pythagorean numbers are those numbers for which pythagorus equation stands true\n",
    "\n",
    "from numpy import sqrt\n",
    "n = input('Please input a maximum number:') # Asks user to input a number\n",
    "n = int(n) + 1 # converts the values stored in variable n to integer data type and adds 1 so that computation can be done if user\n",
    "# feeds 0\n",
    "\n",
    "#Two loops to define arrays for a and b for which c shall be computed\n",
    "for a in range(1,n):\n",
    "    for b in range(a,n):\n",
    "        c_square = a**2 + b**2\n",
    "        c = int(sqrt(c_square)) # c is converted to an integer\n",
    "        if ((c_square - c**2) == 0): # if square of a and square of b is equal to square of c then the result will be zero\n",
    "            if ( c%2 == 0): # Checking if c is an even number\n",
    "                print(a,b,c)\n",
    "                "
   ]
  },
  {
   "cell_type": "code",
   "execution_count": null,
   "metadata": {},
   "outputs": [],
   "source": [
    "#As an exercise, you can write a few more lines of code to check if there are any prime number triplets as Pythagorean numbera"
   ]
  },
  {
   "cell_type": "code",
   "execution_count": 9,
   "metadata": {},
   "outputs": [
    {
     "name": "stdout",
     "output_type": "stream",
     "text": [
      "What is the total amount for your online shoping?\n",
      "2001\n",
      "Type \"I\" if you are shopping within India... and \"O\" if you are shopping outside India\n",
      "I\n",
      "Free\n"
     ]
    }
   ],
   "source": [
    "'''\n",
    "7. if-else Loop\n",
    "In this example Python code pytha.py, an if statement has already been used. It simply checks a condition, runs the loop if the\n",
    "condition results True boolean data, and exits the loop if the condition results False boolean data. When multiple conditions \n",
    "need to be checked in a squence, if-else loops are employed where the if condition results True boolean data and the statement\n",
    "is executed. Otherwise, the next condition is checked and a similar operation is performed recursively. This action is performed\n",
    "unless all conditions result in returning the False boolean data. (See Listing 7)\n",
    "\n",
    "Listing 7. ifefif.py '''\n",
    "# Program to calculate shipping cost based on money spent and location \n",
    "total = int(input('What is the total amount for your online shoping?\\n'))\n",
    "area = input('''Type \"I\" if you are shopping within India... and \"O\" if you are shopping outside India\\n''')\n",
    "if area == \"I\":\n",
    "    if total <= 500:\n",
    "        print('Shopping costs INR 20.00')\n",
    "    elif total <= 1000:\n",
    "        print('Shopping costs INR 100.00')\n",
    "    elif total <= 1500:\n",
    "        print('Shopping costs INR 250.00')\n",
    "    else:\n",
    "        print('Free')\n",
    "            \n",
    "if area == \"O\":\n",
    "    if total < 500:\n",
    "        print('Shopping costs INR 75.00')\n",
    "    elif total <= 1000:\n",
    "        print('Shopping costs INR 200.00')\n",
    "    elif total <= 1500:\n",
    "        print('Shopping costs INR 500.00')\n",
    "    else:\n",
    "        print('Free')"
   ]
  },
  {
   "cell_type": "code",
   "execution_count": 10,
   "metadata": {},
   "outputs": [
    {
     "name": "stdout",
     "output_type": "stream",
     "text": [
      "What is the total amount for your online shoping?\n",
      "300\n",
      "Type \"I\" if you are shopping within India... and \"O\" if you are shopping outside India\n",
      "I\n",
      "Shopping costs INR 20.00\n"
     ]
    }
   ],
   "source": [
    "total = int(input('What is the total amount for your online shoping?\\n'))\n",
    "area = input('''Type \"I\" if you are shopping within India... and \"O\" if you are shopping outside India\\n''')\n",
    "if area == \"I\":\n",
    "    if total <= 500:\n",
    "        print('Shopping costs INR 20.00')\n",
    "    elif total <= 1000:\n",
    "        print('Shopping costs INR 100.00')\n",
    "    elif total <= 1500:\n",
    "        print('Shopping costs INR 250.00')\n",
    "    else:\n",
    "        print('Free')\n",
    "            \n",
    "if area == \"O\":\n",
    "    if total < 500:\n",
    "        print('Shopping costs INR 75.00')\n",
    "    elif total <= 1000:\n",
    "        print('Shopping costs INR 200.00')\n",
    "    elif total <= 1500:\n",
    "        print('Shopping costs INR 500.00')\n",
    "    else:\n",
    "        print('Free')"
   ]
  },
  {
   "cell_type": "code",
   "execution_count": 9,
   "metadata": {},
   "outputs": [
    {
     "name": "stdout",
     "output_type": "stream",
     "text": [
      "Square roof of 0, 0.0\n",
      "Time taken for execution = 0.000000e+00 seconds \n",
      "\n",
      "Square roof of 1, 1.0\n",
      "Time taken for execution = 0.000000e+00 seconds \n",
      "\n",
      "Square roof of 2, 1.4142135623730951\n",
      "Time taken for execution = 0.000000e+00 seconds \n",
      "\n",
      "Square roof of 3, 1.7320508075688772\n",
      "Time taken for execution = 0.000000e+00 seconds \n",
      "\n",
      "Square roof of 4, 2.0\n",
      "Time taken for execution = 0.000000e+00 seconds \n",
      "\n",
      "Square roof of 5, 2.23606797749979\n",
      "Time taken for execution = 0.000000e+00 seconds \n",
      "\n",
      "Square roof of 6, 2.449489742783178\n",
      "Time taken for execution = 0.000000e+00 seconds \n",
      "\n",
      "Square roof of 7, 2.6457513110645907\n",
      "Time taken for execution = 0.000000e+00 seconds \n",
      "\n",
      "Square roof of 8, 2.8284271247461903\n",
      "Time taken for execution = 0.000000e+00 seconds \n",
      "\n",
      "Square roof of 9, 3.0\n",
      "Time taken for execution = 0.000000e+00 seconds \n",
      "\n",
      "The end\n"
     ]
    }
   ],
   "source": [
    "'''\n",
    "8. While Loop\n",
    "    A while loop has the following syntax:\n",
    "    1. while expression:\n",
    "    2. Statement(s)\n",
    "    Note that the statement(s) are indented for grouping. The statement(s) can be single or multiple actions. The condition is a\n",
    "logical expression. The loop iterated until the value of the logical expression is True. As soon as it becomes False, the \n",
    "program control is passed to the next line. While loop plays an important role in cases where looping must be skipped if the \n",
    "condition is not satisfied since none of the statement is executed if the logical expression has False value.\n",
    "    The program while.py gives an example code demonstrating the working of while loop. (See Listing 8). Here another module,\n",
    "namely time, is used to time taken by two lines of codes for their execution. Writing help(time) gives important documentation\n",
    "regarding its usage. The function time.clock() returns a floating point number that represents CPU time since the start of the \n",
    "process or the time when this function is called first. By subtracting the two, you get a number depicting the number of seconds\n",
    "taken to execute statements.\n",
    "\n",
    "Listing 8. while.py\n",
    "'''\n",
    "#Program demonstrating usage of while loop\n",
    "# Program to count number of steps and time taken for thier execution\n",
    "import time #This module is used for timing lines of codes\n",
    "import numpy as np\n",
    "\n",
    "i = 0 #initializing the counter\n",
    "while(i<10): #counter condition \n",
    "    start = time.process_time() #Defining the variable which stores \n",
    "    #time.clock(value)\n",
    "   # print('Square roof of %d = %3.%2f:'%(i,np.sqrt(i)))\n",
    "    test = \"Square roof of {a}, {b}\".format(a = i, b = np.sqrt(i))\n",
    "    print(test)\n",
    "    # printing the number and its squareroot\n",
    "    i = i + 1 # incrementing the counter\n",
    "    timing =  time.process_time() - start # prints time taken to execute two lines of code above\n",
    "    print('Time taken for execution = %e seconds \\n' %timing)\n",
    "print('The end') #signifies exiting the loop after condition is satisfied\n",
    "# The result is shown as follows:\n",
    "# Đoạn code này tính bình phương của 1 giá trị và thời gian để nó chạy "
   ]
  },
  {
   "cell_type": "code",
   "execution_count": 7,
   "metadata": {},
   "outputs": [
    {
     "name": "stdout",
     "output_type": "stream",
     "text": [
      "My name is John, I'm 36\n"
     ]
    }
   ],
   "source": [
    "txt1 = \"My name is {i}, I'm {age}\".format(i = \"John\", age = 36)\n",
    "print(txt1)\n"
   ]
  },
  {
   "cell_type": "code",
   "execution_count": 6,
   "metadata": {},
   "outputs": [
    {
     "name": "stdout",
     "output_type": "stream",
     "text": [
      "For only 49.00 dollars!\n"
     ]
    }
   ],
   "source": [
    "txt = \"For only {price:.2f} dollars!\"\n",
    "print(txt.format(price = 49))"
   ]
  },
  {
   "cell_type": "code",
   "execution_count": null,
   "metadata": {},
   "outputs": [],
   "source": [
    "'''\n",
    "Note that the output time might be different for each execution even on same the computer since time taken to process a line of\n",
    "code is functional of the state of CPU at that particular moment of time\n",
    "'''"
   ]
  },
  {
   "cell_type": "code",
   "execution_count": null,
   "metadata": {},
   "outputs": [],
   "source": [
    "'''\n",
    "9. Infinite Loops\n",
    "If the logical expression always outputs the boolean value True, the program never stops. These loops are termed as infinite\n",
    "loops since they will take an infinite(vô hạn) amount of time for execution. One of the simplest examples is given in the \n",
    "Python code infinite.py shown in Listing 9\n",
    "\n",
    "Listing 9. infinite-loop.py\n",
    "'''\n",
    "# Program to define an infinite loop\n",
    "# Press Ctrt + C to interrupt execution of python REPL\n",
    "i = 1\n",
    "while i == 1:\n",
    "    print(i)\n",
    "print('good bye')\n",
    "\n",
    "'''Since the condition always remains true, the program will never quit displaying the value of i, which is 1. It will never\n",
    "print the last line of the code. On a Linux machine, you need to press CTRL + C to interrupt the executing and come back to the\n",
    "command line'''"
   ]
  },
  {
   "cell_type": "code",
   "execution_count": 14,
   "metadata": {},
   "outputs": [
    {
     "name": "stdout",
     "output_type": "stream",
     "text": [
      "0\n",
      "1\n",
      "2\n",
      "3\n",
      "4\n",
      "5\n",
      "The value now execeeds 5\n"
     ]
    }
   ],
   "source": [
    "'''\n",
    "10. while-else\n",
    "Within a while loop, the statements are executed if the condition produces a boolean value True. Using an else statement within\n",
    "this structure allows the user to route the flow of the program if the condition returns the boolean value False, as shown in\n",
    "Listing 10.\n",
    "\n",
    "Listing 10. while-else.py\n",
    "\n",
    "'''\n",
    "#Python program to explain usage of while-else loop\n",
    "i = 0\n",
    "\n",
    "while i <= 5:\n",
    "    print(i)\n",
    "    i += 1\n",
    "else: \n",
    "    print('The value now execeeds 5')\n",
    "    \n",
    "# Following is the result:"
   ]
  },
  {
   "cell_type": "code",
   "execution_count": null,
   "metadata": {},
   "outputs": [],
   "source": [
    "# As soon as incremented value becomes 5, the flow is handled by statements under the else condition"
   ]
  }
 ],
 "metadata": {
  "kernelspec": {
   "display_name": "Python 3",
   "language": "python",
   "name": "python3"
  },
  "language_info": {
   "codemirror_mode": {
    "name": "ipython",
    "version": 3
   },
   "file_extension": ".py",
   "mimetype": "text/x-python",
   "name": "python",
   "nbconvert_exporter": "python",
   "pygments_lexer": "ipython3",
   "version": "3.8.5"
  }
 },
 "nbformat": 4,
 "nbformat_minor": 4
}
