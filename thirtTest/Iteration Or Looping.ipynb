{
 "cells": [
  {
   "cell_type": "code",
   "execution_count": 1,
   "metadata": {},
   "outputs": [
    {
     "name": "stdout",
     "output_type": "stream",
     "text": [
      "starting\n",
      "0  1  2  3  4  5  6  7  8  9  \n",
      "done\n"
     ]
    }
   ],
   "source": [
    "count = 0\n",
    "print('starting')\n",
    "while count < 10:\n",
    "    print(count,' ', end='')# part of the while loop\n",
    "    count += 1              # also part of the while loop\n",
    "print() # not part of the while loop\n",
    "print('done')"
   ]
  },
  {
   "cell_type": "code",
   "execution_count": 2,
   "metadata": {},
   "outputs": [
    {
     "name": "stdout",
     "output_type": "stream",
     "text": [
      "print out values in a range\n",
      "0  1  2  3  4  5  6  7  8  9  \n",
      "Done\n"
     ]
    }
   ],
   "source": [
    "#loop over a set of value in a range\n",
    "print('print out values in a range')\n",
    "for i in range(0,10):\n",
    "    print(i, ' ', end='')\n",
    "print()\n",
    "print('Done')"
   ]
  },
  {
   "cell_type": "code",
   "execution_count": 3,
   "metadata": {},
   "outputs": [
    {
     "name": "stdout",
     "output_type": "stream",
     "text": [
      "0  2  4  6  8  \n",
      "Done\n"
     ]
    }
   ],
   "source": [
    "for i in range(0, 10, 2):\n",
    "    print(i, ' ', end='')\n",
    "print()\n",
    "print('Done')"
   ]
  },
  {
   "cell_type": "code",
   "execution_count": 4,
   "metadata": {},
   "outputs": [
    {
     "name": "stdout",
     "output_type": "stream",
     "text": [
      "Only print code if all interations completed\n",
      "Enter a number to check for: 3\n",
      "0  1  2  Done\n"
     ]
    }
   ],
   "source": [
    "print('Only print code if all interations completed')\n",
    "num = int(input('Enter a number to check for: '))\n",
    "for i in range(0,6):\n",
    "    if i == num:\n",
    "        break\n",
    "    print(i, ' ', end='')\n",
    "print('Done')"
   ]
  },
  {
   "cell_type": "code",
   "execution_count": 5,
   "metadata": {},
   "outputs": [
    {
     "name": "stdout",
     "output_type": "stream",
     "text": [
      "0  hey its an even number\n",
      "We love even numbers\n",
      "1  2  hey its an even number\n",
      "We love even numbers\n",
      "3  4  hey its an even number\n",
      "We love even numbers\n",
      "5  6  hey its an even number\n",
      "We love even numbers\n",
      "7  8  hey its an even number\n",
      "We love even numbers\n",
      "9  Done\n"
     ]
    }
   ],
   "source": [
    "for i in range(0, 10):\n",
    "    print(i, ' ', end='')\n",
    "    if i%2==1:\n",
    "        continue\n",
    "    print('hey its an even number')\n",
    "    print('We love even numbers')\n",
    "print('Done')"
   ]
  },
  {
   "cell_type": "code",
   "execution_count": 7,
   "metadata": {},
   "outputs": [
    {
     "name": "stdout",
     "output_type": "stream",
     "text": [
      "Only print code if all itearations completed\n",
      "Enter a number to check for:3\n",
      "0  1  2  "
     ]
    }
   ],
   "source": [
    "# Only print code if all itearations completed over a list \n",
    "print('Only print code if all itearations completed')\n",
    "num = int(input('Enter a number to check for:'))\n",
    "for i in range(0, 6):\n",
    "    if i == num:\n",
    "        break\n",
    "    print(i, ' ', end='')\n",
    "else:\n",
    "    print()\n",
    "    print('All itearations successful')\n",
    "        "
   ]
  },
  {
   "cell_type": "code",
   "execution_count": 8,
   "metadata": {},
   "outputs": [
    {
     "name": "stdout",
     "output_type": "stream",
     "text": [
      "Only print code if all itearations completed\n",
      "Enter a number to check for:4\n",
      "0  1  2  3  "
     ]
    }
   ],
   "source": [
    "print('Only print code if all itearations completed')\n",
    "num = int(input('Enter a number to check for:'))\n",
    "for i in range(0, 6):\n",
    "    if i == num:\n",
    "        break\n",
    "    print(i, ' ', end='')\n",
    "else:\n",
    "    print()\n",
    "    print('All itearations successful')"
   ]
  },
  {
   "cell_type": "code",
   "execution_count": 4,
   "metadata": {},
   "outputs": [
    {
     "name": "stdout",
     "output_type": "stream",
     "text": [
      "Starting\n",
      "0  1  2  3  4  5  6  7  8  9  \n",
      "Done\n"
     ]
    }
   ],
   "source": [
    "#                                Iteration/ Looping\n",
    "'''\n",
    "1. Introduction\n",
    "\n",
    "In this section we will look at the while loop and the for loop available in Python. These loops are used to control the repeated\n",
    "execution of statements. \n",
    "\n",
    "2. While Loop\n",
    "\n",
    "The while loop exists in almost all programming languages and is used to iterative(or repeat) one or more code statements long as\n",
    "the test condition(expression) is the True. This iterative construct is usually used when the number of times we need to repeat\n",
    "the block of code to execute is not known. For example, it may need to repeat until some solutions is found or the user enters a\n",
    "particular value\n",
    "    The Python while loop has the basic form:\n",
    "    while <test-condition-is-true>:\n",
    "        statement or statements\n",
    "\n",
    "    As shown both in diagram and can be inferred from the code; while the test condition/expression is True then the statement or\n",
    "block of statements in the while loop will be executed.\n",
    "    Note that the test is performed before each iteration, including the first iteration; therefore, if the condition fails the\n",
    "first time around the loop the statement or block of statements may never be executed at all.\n",
    "    As with the if statement, indentation is key here as the statements included in the while statement are determined by \n",
    "indented to the same level after the while condition is part of the while loop.\n",
    "    However, as soon as a statements is not longer following the while block; then it is no longer part of the while loop and its\n",
    "execution is no longer under the control  of the test-condition.\n",
    "    The follơwing illustrates an example while loop in Python:\n",
    "'''\n",
    "count = 0\n",
    "print('Starting')\n",
    "while count < 10:\n",
    "    print(count, ' ', end='') # part of the while loop\n",
    "    count += 1                # also part of the while loop\n",
    "print() # not part of the while loop\n",
    "print('Done')\n",
    "\n",
    "\n",
    "#In this example while some variable count is less than the value 10 the while loop will continue to iterate(will be repeated).\n",
    "#The while loop itself contains two statements; one prints out the value of count variable while the other increments count \n",
    "#(remember count += 1 is equivalent to count = count + 1)\n",
    "#    We have used the version of print() that does not print a carriage return when it prints out a value (this is indicated by \n",
    "#the end='' option passed to the print() function).\n",
    "#    The result of running this example is:\n"
   ]
  },
  {
   "cell_type": "code",
   "execution_count": 2,
   "metadata": {},
   "outputs": [
    {
     "name": "stdout",
     "output_type": "stream",
     "text": [
      "Print out values in a range\n",
      "0  1  2  3  4  5  6  7  8  9  \n",
      "Done\n"
     ]
    }
   ],
   "source": [
    "'''\n",
    "    As you can see the statements printing the starting and done messages are only run once. However, the statement printing out the\n",
    "count variable is run 10 times (printing out the values 0 - 9).\n",
    "    Once the value of count is equal to 10 then the loop finishes (or terminates).\n",
    "    Note the we needed to initialise the count variable before the loop. This is because it needs to have a value for the this \n",
    "iteration of the while loop. That is before the while loop does anything the program needs to already know the first value of\n",
    "count so that it can perform that very first test. This is a feature of the while loops behaviour.\n",
    "\n",
    "\n",
    "3. For loop\n",
    "\n",
    "In many cases we know how many times we want to iterative over one or more statements(as indeed we did in the previous section).\n",
    "Although the while loop can be used for such situations, the for loop is a far more concise way to do this. It typically also \n",
    "clearer to another programmer that the loop must iterate for a specific number of iterations.\n",
    "    The for loop is used to step a variable throungh a series of value until a given test is met. The behaviour of the for loop\n",
    "is illustrated in below.\n",
    "                                                        Start\n",
    "                                                          |  for each item in sequence\n",
    "                                                          v\n",
    "                                                  --> last item reached? ---> |\n",
    "                                                  |       | No                |\n",
    "                                                  |       V                   |\n",
    "                                                   -- process                 |\n",
    "                                                                              |\n",
    "                                                           --------------------\n",
    "                                                           |\n",
    "                                                           v\n",
    "                                                          Stop\n",
    "     This folow char shows that some sequence of value (for example all integer value between 0 and 9) will be used to iterate over\n",
    " a block of code to process.\n",
    "     When the last item in the sequence has been reached, the loop will terminate.\n",
    "     Many languages have a for loop of the form:\n",
    "         \n",
    "         for i= from 0 to 10 \n",
    "             statement to statements\n",
    "    In this case a variable 'i' would take the value 0,1,2,3 etc. up to 10.\n",
    "    In Python the approach is slightly different as the values from 0 up to 10 are represented by a range. This is actually a\n",
    "function that will generate the range of values to be used as the sequence in the for loop. This is because the Python for loop\n",
    "is very flexible and can loop over not only a range of integer values but also a set of values held in data structures such as a\n",
    "list of integers or strings. We will return to this feature of the for loop when we look at collections/containers of data in a\n",
    "a later chapter.\n",
    "    The format of the Python for loop  when using a range of values is\n",
    "    \n",
    "        for < variable-name> in range(...):\n",
    "            statement\n",
    "            statement\n",
    "        An example is shown below which equates to the while loop we looked at earlier:\n",
    "'''\n",
    "# Loop over a set of values in a range \n",
    "print('Print out values in a range')\n",
    "for i in range(0, 10):\n",
    "    print(i, ' ', end='')\n",
    "print()\n",
    "print('Done')\n",
    "\n",
    "#When we run this code, the output is:\n"
   ]
  },
  {
   "cell_type": "code",
   "execution_count": 3,
   "metadata": {},
   "outputs": [
    {
     "name": "stdout",
     "output_type": "stream",
     "text": [
      "Print out values in a range with an increment of 2\n",
      "0  2  4  6  8  \n",
      "Done\n"
     ]
    }
   ],
   "source": [
    "'''\n",
    "As can be seen from the above; the end result is that we have generated a for loop that produces the same set of values as the \n",
    "earlier while loop. However,\n",
    "    + The code is more concise,\n",
    "    + It is clear we are processing a range of values from 0 to 9 (note that it is up to but not including the final value) and\n",
    "    + We did not need to define the loop variable first.\n",
    "    For these reasons for loops are more  common in programs in general than while loops.\n",
    "    One thing you might notice though is that in the while loop we are not constrained to incrementing the count variable by one\n",
    "(we just happened to do this). For example, we could have decided to increment count by 2 each time round the loop \n",
    "(a very common idea). In fact, range allows us to do exactly this; a third argument that can be provided to the range function\n",
    "is the value to increment the loop variable by each time round the loop, for example:\n",
    "\n",
    "'''\n",
    "# Now use values in a range but increment by 2\n",
    "print('Print out values in a range with an increment of 2')\n",
    "for i in range(0, 10, 2):\n",
    "    print(i, ' ', end='')\n",
    "print()\n",
    "print('Done')\n",
    "# When we run this code, the output is"
   ]
  },
  {
   "cell_type": "code",
   "execution_count": 5,
   "metadata": {},
   "outputs": [
    {
     "name": "stdout",
     "output_type": "stream",
     "text": [
      "__________\n"
     ]
    }
   ],
   "source": [
    "'''\n",
    "    Thus the value of the loop variable has jumped by 2 starting at 0. Once its value was 10 or more then the loop teminates. Of\n",
    "course, it is not only the value 2 we could use; we could increment by  any meaningful integer, 3, 4 or 5 etc.\n",
    "    One interesting variation on the for loop is the use of a wild card(a'_') instead of a looping variable; this can be useful\n",
    "if you are only interested in looping a certain number of times and not in the value of the loop counter itself, for example:\n",
    "'''\n",
    "# Now use a 'anonymous' loop variable\n",
    "for _ in range(0, 10):\n",
    "    print('_', end='')\n",
    "print()\n",
    "\n",
    " #   In this case we are not interested in the values generated by the range per se only in looping 10 times thus there is no benefit\n",
    "#in recording the loop variable. The loop variable is represented by the underbar character('_')\n",
    "#    Note that in actual fact this is a valid variable and can be referenced within the loop; however by convention it is treated as\n",
    "# being anonymous."
   ]
  },
  {
   "cell_type": "code",
   "execution_count": 6,
   "metadata": {},
   "outputs": [
    {
     "name": "stdout",
     "output_type": "stream",
     "text": [
      "Only print code if all iterations completed\n",
      "Enter a number to check for: 7\n",
      "0  1  2  3  4  5  Done\n"
     ]
    }
   ],
   "source": [
    "'''\n",
    "4. Break Loop Statement\n",
    "    Python allows programmers to decide whether they want to break out of a loop early or not (whether we are using a for loop or \n",
    "while loop). This is done using the break statement.\n",
    "    The break statement allows a developer to alter the normal cycle of the loop based on some criteria which may not be \n",
    "predictable in advance (for example it may be based on some user input).\n",
    "    The break statement, when executed, will terminate the current loop and jump the program to the first line after the loop.\n",
    "    Typically, a guard statement (if statement) is placed on the break so that the break statement is conditionally applied \n",
    "when appropriate.\n",
    "    This is shown below for a simple application where the user is asked to enter a number which  may or may not be in the range\n",
    "defined by the for loop. If the number is in the range, then we will loop until this value is reached and then break the loop \n",
    "(that is terminate early without processing the rest of the values in the loop):\n",
    "\n",
    "'''\n",
    "print('Only print code if all iterations completed')\n",
    "num = int(input('Enter a number to check for: '))\n",
    "for i in range(0, 6):\n",
    "    if i == num:\n",
    "        break\n",
    "    print(i, ' ',end='')\n",
    "print('Done')\n",
    "\n",
    "# If we run this and enter the value 7 (which is outside of the range) then all the values in the loop should be printed out:"
   ]
  },
  {
   "cell_type": "code",
   "execution_count": 7,
   "metadata": {},
   "outputs": [
    {
     "name": "stdout",
     "output_type": "stream",
     "text": [
      "Only print code if all iterations completed\n",
      "Enter a number to check for: 3\n",
      "0  1  2  Done\n"
     ]
    }
   ],
   "source": [
    "# However, if we enter the value 3 then only the values 0, 1 and 2 will be printed out before the loop breaks (terminates) early:\n",
    "print('Only print code if all iterations completed')\n",
    "num = int(input('Enter a number to check for: '))\n",
    "for i in range(0, 6):\n",
    "    if i == num:\n",
    "        break\n",
    "    print(i, ' ',end='')\n",
    "print('Done')"
   ]
  },
  {
   "cell_type": "code",
   "execution_count": 8,
   "metadata": {},
   "outputs": [
    {
     "name": "stdout",
     "output_type": "stream",
     "text": [
      "0  Hey its an even number\n",
      "We love even number\n",
      "1  2  Hey its an even number\n",
      "We love even number\n",
      "3  4  Hey its an even number\n",
      "We love even number\n",
      "5  6  Hey its an even number\n",
      "We love even number\n",
      "7  8  Hey its an even number\n",
      "We love even number\n",
      "9  Done\n"
     ]
    }
   ],
   "source": [
    "'''\n",
    " Note that the string 'Done' is printed out in both cases as it is the first line after the for loop that is not indented and is\n",
    "thus not part of the for loop.\n",
    " Note that the break statement can come anywhere within the block of code associated with the loop construct (whether that is a \n",
    "for loop or a while loop).\n",
    "This means that there can be statements before it and after it\n",
    "\n",
    "7. Continue Loop Statement\n",
    "\n",
    "    The continue statement also affects the flow of control within the looping constructs for and while. However, it does not \n",
    "terminate the whole loop; rather it only terminates the curren iteration round the loop. This allows you to skip over part of a\n",
    "loop's iteration for a particular value, but then to continue with the remaining values in the sequence.\n",
    "    A guard (if statement) can be used to determine when the continue statement should be executed\n",
    "    As with the break statement, the continue statement can come anywhere within the  body of the looping construct. This means \n",
    "that you can have some statements that will be executed for every value in the sequence and some that are only executed when the\n",
    "continue statement is not run\n",
    "    This is shown below. In this program the continue statement is executed only for odd numbers and thus the two print()\n",
    "statements are only run if the value of i is even:\n",
    "\n",
    "'''\n",
    "for i in range(0, 10):\n",
    "    print(i, ' ',end='')\n",
    "    if i % 2 == 1:\n",
    "        continue\n",
    "    print('Hey its an even number')\n",
    "    print('We love even number')\n",
    "print('Done')\n",
    "\n",
    "#When we run this code we get "
   ]
  },
  {
   "cell_type": "code",
   "execution_count": null,
   "metadata": {},
   "outputs": [],
   "source": [
    "# As you can see, we only print out the messages about a number being even when the values are 0, 2, 4, 6 and 8."
   ]
  },
  {
   "cell_type": "code",
   "execution_count": 9,
   "metadata": {},
   "outputs": [
    {
     "name": "stdout",
     "output_type": "stream",
     "text": [
      "Only print code if all iterations completed\n",
      "Enter a number to check for: 7\n",
      "0  1  2  3  4  5  \n",
      "All iterations successful\n"
     ]
    }
   ],
   "source": [
    "'''\n",
    "6. For loop with Else\n",
    "\n",
    "    A for loop can have an optional else block at the end of the loop. The else part is executed if and only if all items in the\n",
    "sequence are processed. The for loop may fail to process all elements in the loop if for some reason an error occurs in your \n",
    "program (for example if you have a syntax error) or if you break the loop.\n",
    "    Here is an example of a for loop with an else part:\n",
    "'''\n",
    "# Only print code if all iterations completed over a list \n",
    "print('Only print code if all iterations completed')\n",
    "num = int(input('Enter a number to check for: '))\n",
    "for i in range(0, 6):\n",
    "    if i == num:\n",
    "        break\n",
    "    print(i, ' ', end='')\n",
    "else:\n",
    "    print()\n",
    "    print('All iterations successful')\n",
    "    \n",
    "# if we run this code and enter the integer value 7 as the number to check for, then the else block executes as the if test \n",
    "# within the for statement is never True and thus the loop is never broken, and all values are processed:"
   ]
  },
  {
   "cell_type": "code",
   "execution_count": 10,
   "metadata": {},
   "outputs": [
    {
     "name": "stdout",
     "output_type": "stream",
     "text": [
      "Only print code if all iterations completed\n",
      "Enter a number to check for: 3\n",
      "0  1  2  "
     ]
    }
   ],
   "source": [
    "'''\n",
    "However, if we enter the value 3 as the number to check for; then the if statement will be True when the loop variable 'i' has\n",
    "the value 3; thus only the values 0, 1 and 2 will be processed by the loop. In this situation the else part will not be executed\n",
    "because not all the values in the sequence were processed:\n",
    "'''\n",
    "print('Only print code if all iterations completed')\n",
    "num = int(input('Enter a number to check for: '))\n",
    "for i in range(0, 6):\n",
    "    if i == num:\n",
    "        break\n",
    "    print(i, ' ', end='')\n",
    "else:\n",
    "    print()\n",
    "    print('All iterations successful')"
   ]
  },
  {
   "cell_type": "code",
   "execution_count": null,
   "metadata": {},
   "outputs": [
    {
     "name": "stdout",
     "output_type": "stream",
     "text": [
      "Rolling the dices...\n",
      "The values are...\n",
      "3\n",
      "1\n",
      "Roll the dice again? (y / n): y\n",
      "Rolling the dices...\n",
      "The values are...\n",
      "3\n",
      "2\n",
      "Roll the dice again? (y / n): y\n",
      "Rolling the dices...\n",
      "The values are...\n",
      "3\n",
      "1\n",
      "Roll the dice again? (y / n): y\n",
      "Rolling the dices...\n",
      "The values are...\n",
      "1\n",
      "1\n",
      "Roll the dice again? (y / n): y\n",
      "Rolling the dices...\n",
      "The values are...\n",
      "6\n",
      "2\n",
      "Roll the dice again? (y / n): y\n",
      "Rolling the dices...\n",
      "The values are...\n",
      "3\n",
      "1\n",
      "Roll the dice again? (y / n): y\n",
      "Rolling the dices...\n",
      "The values are...\n",
      "6\n",
      "4\n",
      "Roll the dice again? (y / n): y\n",
      "Rolling the dices...\n",
      "The values are...\n",
      "4\n",
      "4\n",
      "Roll the dice again? (y / n): y\n",
      "Rolling the dices...\n",
      "The values are...\n",
      "5\n",
      "6\n",
      "Roll the dice again? (y / n): y\n",
      "Rolling the dices...\n",
      "The values are...\n",
      "1\n",
      "5\n",
      "Roll the dice again? (y / n): y\n",
      "Rolling the dices...\n",
      "The values are...\n",
      "3\n",
      "2\n"
     ]
    }
   ],
   "source": [
    "'''\n",
    "7. A Note on Loop Variable Naming\n",
    "\n",
    "    Earlier in the book we said that variable names should be meaningful and that names such as 'a' and 'b' were not in general\n",
    "a good idea. The one exception to this rule relates to loop variable names used with for loops over ranges. It very common to \n",
    "find that these loop variables are called 'i', 'j' etc.\n",
    "    It is such a common convention that if a variable is called 'i' or 'j' people expect it to be a loop variable. A such \n",
    "    + you should consider using these variable names in looping constructs,\n",
    "    + and avoid using them elsewhere\n",
    "    But this does raise the question why 'i' and 'j'; the answer is that it all goes back to a programming language called \n",
    "Fortran which was firt developed in the 1950s. In this programming language loop variables had to be called 'i' and 'j' etc.\n",
    "Fortran was so ubiquitous for mathematical and scientific programming, where loops are almost di rigour, that this is has become\n",
    "the convention in other languages which do not have this restriction.\n",
    "\n",
    "8. Dice Roll Game\n",
    "\n",
    "    The following short program illustrates how a while loop can be used to control the execution of the main body of code. In\n",
    "this game we will continue to roll a pair of dice until the user indicates that they do not want to roll again(we use the random\n",
    "module for this which is discussed in the next chapter). When this occurs the while loop will terminate:\n",
    "\n",
    "'''\n",
    "import random\n",
    "\n",
    "MIN = 1\n",
    "MAX = 6\n",
    "\n",
    "roll_again = 'y'\n",
    "while roll_again == 'y':\n",
    "    print('Rolling the dices...')\n",
    "    print('The values are...')\n",
    "    dice1 = random.randint(MIN, MAX)\n",
    "    print(dice1)\n",
    "    dice2 = random.randint(MIN, MAX)\n",
    "    print(dice2)\n",
    "    roll_again = input('Roll the dice again? (y / n): ')\n",
    "# When we run this program the results of rolling two dice are shown. The program will keep looping and printing out two dice\n",
    "# values until the user indicates that they no longer want to roll the dice:"
   ]
  },
  {
   "cell_type": "code",
   "execution_count": null,
   "metadata": {},
   "outputs": [],
   "source": []
  }
 ],
 "metadata": {
  "kernelspec": {
   "display_name": "Python 3",
   "language": "python",
   "name": "python3"
  },
  "language_info": {
   "codemirror_mode": {
    "name": "ipython",
    "version": 3
   },
   "file_extension": ".py",
   "mimetype": "text/x-python",
   "name": "python",
   "nbconvert_exporter": "python",
   "pygments_lexer": "ipython3",
   "version": "3.8.5"
  }
 },
 "nbformat": 4,
 "nbformat_minor": 4
}
